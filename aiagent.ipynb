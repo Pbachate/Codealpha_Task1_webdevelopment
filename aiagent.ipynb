{
  "nbformat": 4,
  "nbformat_minor": 0,
  "metadata": {
    "colab": {
      "provenance": [],
      "authorship_tag": "ABX9TyPJ1Aty27uiJHPX5QKLhjMH",
      "include_colab_link": true
    },
    "kernelspec": {
      "name": "python3",
      "display_name": "Python 3"
    },
    "language_info": {
      "name": "python"
    }
  },
  "cells": [
    {
      "cell_type": "markdown",
      "metadata": {
        "id": "view-in-github",
        "colab_type": "text"
      },
      "source": [
        "<a href=\"https://colab.research.google.com/github/Pbachate/Codealpha_Task1_webdevelopment/blob/main/aiagent.ipynb\" target=\"_parent\"><img src=\"https://colab.research.google.com/assets/colab-badge.svg\" alt=\"Open In Colab\"/></a>"
      ]
    },
    {
      "cell_type": "code",
      "execution_count": null,
      "metadata": {
        "id": "Xaz1RwqOpoa2"
      },
      "outputs": [],
      "source": []
    },
    {
      "cell_type": "code",
      "source": [],
      "metadata": {
        "id": "K-4DIlHSpvUU"
      },
      "execution_count": null,
      "outputs": []
    },
    {
      "cell_type": "code",
      "source": [
        "import requests\n",
        "from datetime import datetime\n",
        "\n",
        "# ==== CONFIG ====\n",
        "API_KEY = \"YOUR_OPENWEATHERMAP_API_KEY\"\n",
        "CITY = \"Your_City\"\n",
        "LAT = \"Your_Latitude\"\n",
        "LON = \"Your_Longitude\"\n",
        "\n",
        "# ==== WEATHER FETCH FUNCTION ====\n",
        "def get_weather():\n",
        "    url = f\"https://api.openweathermap.org/data/2.5/weather?lat={LAT}&lon={LON}&appid={API_KEY}&units=metric\"\n",
        "    response = requests.get(url).json()\n",
        "    temp = response['main']['temp']\n",
        "    humidity = response['main']['humidity']\n",
        "    weather = response['weather'][0]['main']\n",
        "    return temp, humidity, weather\n",
        "\n",
        "# ==== FARM PLAN GENERATOR ====\n",
        "def generate_farming_plan(temp, humidity, weather):\n",
        "    plan = []\n",
        "    if weather in ['Rain', 'Thunderstorm']:\n",
        "        plan.append(\"Delay irrigation and avoid pesticide spraying.\")\n",
        "    elif weather in ['Clear', 'Clouds']:\n",
        "        plan.append(\"Schedule irrigation early morning or evening.\")\n",
        "\n",
        "    if temp > 35:\n",
        "        plan.append(\"High temperature detected. Increase watering frequency.\")\n",
        "    elif temp < 15:\n",
        "        plan.append(\"Low temperature. Protect crops from frost.\")\n",
        "\n",
        "    if humidity > 80:\n",
        "        plan.append(\"High humidity – monitor for fungal infections.\")\n",
        "\n",
        "    plan.append(\"Check soil moisture and fertilize if required.\")\n",
        "    return plan\n",
        "\n",
        "# ==== NOTIFICATION FUNCTION ====\n",
        "def send_notification(plan):\n",
        "    print(\"\\n=== FARMER NOTIFICATION ===\")\n",
        "    print(f\"Date: {datetime.now().strftime('%Y-%m-%d %H:%M')}\")\n",
        "    for idx, step in enumerate(plan, 1):\n",
        "        print(f\"{idx}. {step}\")\n",
        "    print(\"===========================\\n\")\n",
        "\n",
        "# ==== MAIN AGENT ====\n",
        "def ai_farm_agent():\n",
        "    temp, humidity, weather = get_weather()\n",
        "    print(f\"Weather: {weather}, Temp: {temp}°C, Humidity: {humidity}%\")\n",
        "    plan = generate_farming_plan(temp, humidity, weather)\n",
        "    send_notification(plan)\n",
        "\n",
        "# ==== RUN ====\n",
        "if __name__ == \"__main__\":\n",
        "    ai_farm_agent()\n"
      ],
      "metadata": {
        "colab": {
          "base_uri": "https://localhost:8080/",
          "height": 321
        },
        "id": "jFjnWk-6pvXk",
        "outputId": "9fbee00b-9e1f-4311-bef4-9a859337c70a"
      },
      "execution_count": 1,
      "outputs": [
        {
          "output_type": "error",
          "ename": "KeyError",
          "evalue": "'main'",
          "traceback": [
            "\u001b[0;31m---------------------------------------------------------------------------\u001b[0m",
            "\u001b[0;31mKeyError\u001b[0m                                  Traceback (most recent call last)",
            "\u001b[0;32m/tmp/ipython-input-2283692556.py\u001b[0m in \u001b[0;36m<cell line: 0>\u001b[0;34m()\u001b[0m\n\u001b[1;32m     53\u001b[0m \u001b[0;31m# ==== RUN ====\u001b[0m\u001b[0;34m\u001b[0m\u001b[0;34m\u001b[0m\u001b[0m\n\u001b[1;32m     54\u001b[0m \u001b[0;32mif\u001b[0m \u001b[0m__name__\u001b[0m \u001b[0;34m==\u001b[0m \u001b[0;34m\"__main__\"\u001b[0m\u001b[0;34m:\u001b[0m\u001b[0;34m\u001b[0m\u001b[0;34m\u001b[0m\u001b[0m\n\u001b[0;32m---> 55\u001b[0;31m     \u001b[0mai_farm_agent\u001b[0m\u001b[0;34m(\u001b[0m\u001b[0;34m)\u001b[0m\u001b[0;34m\u001b[0m\u001b[0;34m\u001b[0m\u001b[0m\n\u001b[0m",
            "\u001b[0;32m/tmp/ipython-input-2283692556.py\u001b[0m in \u001b[0;36mai_farm_agent\u001b[0;34m()\u001b[0m\n\u001b[1;32m     46\u001b[0m \u001b[0;31m# ==== MAIN AGENT ====\u001b[0m\u001b[0;34m\u001b[0m\u001b[0;34m\u001b[0m\u001b[0m\n\u001b[1;32m     47\u001b[0m \u001b[0;32mdef\u001b[0m \u001b[0mai_farm_agent\u001b[0m\u001b[0;34m(\u001b[0m\u001b[0;34m)\u001b[0m\u001b[0;34m:\u001b[0m\u001b[0;34m\u001b[0m\u001b[0;34m\u001b[0m\u001b[0m\n\u001b[0;32m---> 48\u001b[0;31m     \u001b[0mtemp\u001b[0m\u001b[0;34m,\u001b[0m \u001b[0mhumidity\u001b[0m\u001b[0;34m,\u001b[0m \u001b[0mweather\u001b[0m \u001b[0;34m=\u001b[0m \u001b[0mget_weather\u001b[0m\u001b[0;34m(\u001b[0m\u001b[0;34m)\u001b[0m\u001b[0;34m\u001b[0m\u001b[0;34m\u001b[0m\u001b[0m\n\u001b[0m\u001b[1;32m     49\u001b[0m     \u001b[0mprint\u001b[0m\u001b[0;34m(\u001b[0m\u001b[0;34mf\"Weather: {weather}, Temp: {temp}°C, Humidity: {humidity}%\"\u001b[0m\u001b[0;34m)\u001b[0m\u001b[0;34m\u001b[0m\u001b[0;34m\u001b[0m\u001b[0m\n\u001b[1;32m     50\u001b[0m     \u001b[0mplan\u001b[0m \u001b[0;34m=\u001b[0m \u001b[0mgenerate_farming_plan\u001b[0m\u001b[0;34m(\u001b[0m\u001b[0mtemp\u001b[0m\u001b[0;34m,\u001b[0m \u001b[0mhumidity\u001b[0m\u001b[0;34m,\u001b[0m \u001b[0mweather\u001b[0m\u001b[0;34m)\u001b[0m\u001b[0;34m\u001b[0m\u001b[0;34m\u001b[0m\u001b[0m\n",
            "\u001b[0;32m/tmp/ipython-input-2283692556.py\u001b[0m in \u001b[0;36mget_weather\u001b[0;34m()\u001b[0m\n\u001b[1;32m     12\u001b[0m     \u001b[0murl\u001b[0m \u001b[0;34m=\u001b[0m \u001b[0;34mf\"https://api.openweathermap.org/data/2.5/weather?lat={LAT}&lon={LON}&appid={API_KEY}&units=metric\"\u001b[0m\u001b[0;34m\u001b[0m\u001b[0;34m\u001b[0m\u001b[0m\n\u001b[1;32m     13\u001b[0m     \u001b[0mresponse\u001b[0m \u001b[0;34m=\u001b[0m \u001b[0mrequests\u001b[0m\u001b[0;34m.\u001b[0m\u001b[0mget\u001b[0m\u001b[0;34m(\u001b[0m\u001b[0murl\u001b[0m\u001b[0;34m)\u001b[0m\u001b[0;34m.\u001b[0m\u001b[0mjson\u001b[0m\u001b[0;34m(\u001b[0m\u001b[0;34m)\u001b[0m\u001b[0;34m\u001b[0m\u001b[0;34m\u001b[0m\u001b[0m\n\u001b[0;32m---> 14\u001b[0;31m     \u001b[0mtemp\u001b[0m \u001b[0;34m=\u001b[0m \u001b[0mresponse\u001b[0m\u001b[0;34m[\u001b[0m\u001b[0;34m'main'\u001b[0m\u001b[0;34m]\u001b[0m\u001b[0;34m[\u001b[0m\u001b[0;34m'temp'\u001b[0m\u001b[0;34m]\u001b[0m\u001b[0;34m\u001b[0m\u001b[0;34m\u001b[0m\u001b[0m\n\u001b[0m\u001b[1;32m     15\u001b[0m     \u001b[0mhumidity\u001b[0m \u001b[0;34m=\u001b[0m \u001b[0mresponse\u001b[0m\u001b[0;34m[\u001b[0m\u001b[0;34m'main'\u001b[0m\u001b[0;34m]\u001b[0m\u001b[0;34m[\u001b[0m\u001b[0;34m'humidity'\u001b[0m\u001b[0;34m]\u001b[0m\u001b[0;34m\u001b[0m\u001b[0;34m\u001b[0m\u001b[0m\n\u001b[1;32m     16\u001b[0m     \u001b[0mweather\u001b[0m \u001b[0;34m=\u001b[0m \u001b[0mresponse\u001b[0m\u001b[0;34m[\u001b[0m\u001b[0;34m'weather'\u001b[0m\u001b[0;34m]\u001b[0m\u001b[0;34m[\u001b[0m\u001b[0;36m0\u001b[0m\u001b[0;34m]\u001b[0m\u001b[0;34m[\u001b[0m\u001b[0;34m'main'\u001b[0m\u001b[0;34m]\u001b[0m\u001b[0;34m\u001b[0m\u001b[0;34m\u001b[0m\u001b[0m\n",
            "\u001b[0;31mKeyError\u001b[0m: 'main'"
          ]
        }
      ]
    },
    {
      "cell_type": "code",
      "source": [
        "import requests\n",
        "from datetime import datetime\n",
        "\n",
        "# ==== CONFIG ====\n",
        "API_KEY = \"2ffa2e5a9c97d8a238afc0b69f9d253f\"  # Replace with your actual key\n",
        "\n",
        "# ==== WEATHER FETCH FUNCTION WITH FULL ERROR HANDLING ====\n",
        "def get_weather(lat, lon):\n",
        "    current_url = f\"https://api.openweathermap.org/data/2.5/weather?lat={lat}&lon={lon}&appid={API_KEY}&units=metric\"\n",
        "    forecast_url = f\"https://api.openweathermap.org/data/2.5/forecast?lat={lat}&lon={lon}&appid={API_KEY}&units=metric\"\n",
        "\n",
        "    current_response = requests.get(current_url)\n",
        "    forecast_response = requests.get(forecast_url)\n",
        "\n",
        "    # Convert to JSON\n",
        "    current_data = current_response.json()\n",
        "    forecast_data = forecast_response.json()\n",
        "\n",
        "    # Check if API call failed\n",
        "    if current_response.status_code != 200:\n",
        "        raise Exception(f\"Weather API error ({current_response.status_code}): {current_data.get('message', 'Unknown error')}\")\n",
        "    if forecast_response.status_code != 200:\n",
        "        print(\"⚠️ Forecast data unavailable:\", forecast_data.get('message', 'Unknown error'))\n",
        "        forecast_list = []\n",
        "    else:\n",
        "        forecast_list = forecast_data.get('list', [])\n",
        "\n",
        "    # Extract data safely\n",
        "    temp = current_data.get('main', {}).get('temp')\n",
        "    humidity = current_data.get('main', {}).get('humidity')\n",
        "    weather = current_data.get('weather', [{}])[0].get('main', 'Unknown')\n",
        "\n",
        "    # If temp or humidity missing, fail gracefully\n",
        "    if temp is None or humidity is None:\n",
        "        raise Exception(\"Weather data incomplete. Check coordinates or API key.\")\n",
        "\n",
        "    # Check for rain in forecast\n",
        "    rain_expected = any('Rain' in forecast.get('weather', [{}])[0].get('main', '') for forecast in forecast_list)\n",
        "\n",
        "    return temp, humidity, weather, rain_expected\n",
        "\n",
        "# ==== PLAN GENERATION ====\n",
        "def generate_plan(crop, temp, humidity, weather, rain_expected):\n",
        "    plan = [f\"Crop: {crop}\"]\n",
        "\n",
        "    if weather in ['Rain', 'Thunderstorm']:\n",
        "        plan.append(\"Avoid irrigation & pesticide spraying today.\")\n",
        "    elif weather in ['Clear', 'Clouds']:\n",
        "        plan.append(\"Plan irrigation in early morning or late evening.\")\n",
        "\n",
        "    if temp > 35:\n",
        "        plan.append(\"High temperature: Increase watering & apply mulching.\")\n",
        "    elif temp < 15:\n",
        "        plan.append(\"Low temperature: Protect young plants from cold stress.\")\n",
        "\n",
        "    if humidity > 80:\n",
        "        plan.append(\"High humidity: Monitor for fungal/pest infections.\")\n",
        "\n",
        "    crop = crop.lower()\n",
        "    if \"wheat\" in crop:\n",
        "        plan.append(\"Apply nitrogen fertilizer if crop is at tillering stage.\")\n",
        "    elif \"rice\" in crop:\n",
        "        plan.append(\"Maintain standing water in fields, but avoid overflooding.\")\n",
        "    elif \"maize\" in crop:\n",
        "        plan.append(\"Check for pest infestation (fall armyworm risk).\")\n",
        "    else:\n",
        "        plan.append(\"Check soil health & apply balanced fertilizer as needed.\")\n",
        "\n",
        "    if rain_expected:\n",
        "        plan.append(\"Rain expected soon: Delay irrigation & plan drainage.\")\n",
        "\n",
        "    return plan\n",
        "\n",
        "# ==== NOTIFICATION ====\n",
        "def notify_farmer(plan):\n",
        "    print(\"\\n=== SMART CROP PLANNER NOTIFICATION ===\")\n",
        "    print(f\"Date: {datetime.now().strftime('%Y-%m-%d %H:%M')}\")\n",
        "    for idx, step in enumerate(plan, 1):\n",
        "        print(f\"{idx}. {step}\")\n",
        "    print(\"======================================\\n\")\n",
        "\n",
        "# ==== MAIN AGENT ====\n",
        "def smart_crop_planner():\n",
        "    print(\"=== Welcome to Smart Crop Planner ===\")\n",
        "    crop = input(\"Enter your crop name (e.g., wheat, rice, maize): \").strip()\n",
        "    lat = input(\"Enter your farm latitude (e.g., 28.6139): \").strip()\n",
        "    lon = input(\"Enter your farm longitude (e.g., 77.2090): \").strip()\n",
        "\n",
        "    print(\"\\nFetching weather data...\")\n",
        "    try:\n",
        "        temp, humidity, weather, rain_expected = get_weather(lat, lon)\n",
        "    except Exception as e:\n",
        "        print(f\"\\n❌ ERROR: {e}\")\n",
        "        return\n",
        "\n",
        "    print(f\"Current Weather: {weather}, Temp: {temp}°C, Humidity: {humidity}%, Rain in next days: {'Yes' if rain_expected else 'No'}\")\n",
        "    plan = generate_plan(crop, temp, humidity, weather, rain_expected)\n",
        "    notify_farmer(plan)\n",
        "\n",
        "# ==== RUN ====\n",
        "if __name__ == \"__main__\":\n",
        "    smart_crop_planner()\n",
        "\n"
      ],
      "metadata": {
        "colab": {
          "base_uri": "https://localhost:8080/"
        },
        "id": "A95kkn9ptDC1",
        "outputId": "e61a9c8d-070b-4f2f-a19d-d5e9093f2488"
      },
      "execution_count": 2,
      "outputs": [
        {
          "output_type": "stream",
          "name": "stdout",
          "text": [
            "=== Welcome to Smart Crop Planner ===\n",
            "Enter your crop name (e.g., wheat, rice, maize): rice\n",
            "Enter your farm latitude (e.g., 28.6139): 28.6139\n",
            "Enter your farm longitude (e.g., 77.2090): 77.2090\n",
            "\n",
            "Fetching weather data...\n",
            "Current Weather: Haze, Temp: 32.07°C, Humidity: 66%, Rain in next days: Yes\n",
            "\n",
            "=== SMART CROP PLANNER NOTIFICATION ===\n",
            "Date: 2025-08-06 13:27\n",
            "1. Crop: rice\n",
            "2. Maintain standing water in fields, but avoid overflooding.\n",
            "3. Rain expected soon: Delay irrigation & plan drainage.\n",
            "======================================\n",
            "\n"
          ]
        }
      ]
    }
  ]
}